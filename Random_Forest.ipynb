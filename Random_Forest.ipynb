{
 "cells": [
  {
   "cell_type": "markdown",
   "metadata": {},
   "source": [
    "# Random Forest\n",
    "\n",
    "Random Forest é um algoritmo de aprendizado de máquina que faz parte dos métodos de *ensemble learning*, onde múltiplos modelos (nesse caso, múltiplas árvores de decisão) são treinados e combinados para obter uma previsão mais precisa e robusta. Ele é amplamente utilizado para problemas de classificação e regressão, pois reduz o risco de overfitting em comparação com uma única árvore de decisão.\n",
    "\n",
    "## Como Funciona o Random Forest?\n",
    "\n",
    "O Random Forest funciona criando um conjunto de árvores de decisão (floresta), onde cada árvore é treinada com um subconjunto aleatório dos dados de treinamento. Isso acontece em duas etapas principais:\n",
    "\n",
    "1. **Bagging**: Cada árvore recebe um conjunto de dados diferente, criado por amostragem aleatória com substituição do conjunto de dados original (ou seja, um mesmo dado pode ser repetido várias vezes em uma mesma árvore).\n",
    "2. **Divisão Aleatória de Atributos**: Para cada divisão de nó na árvore, apenas um subconjunto aleatório dos atributos (ou variáveis) é considerado para escolher a melhor divisão. Isso garante que as árvores sejam mais diversas entre si.\n",
    "\n",
    "Durante a fase de previsão:\n",
    "- **Classificação**: Cada árvore vota na classe que considera correta, e a classe mais votada é a previsão final (votação majoritária).\n",
    "- **Regressão**: A média das previsões de todas as árvores é calculada para fornecer o valor final.\n",
    "\n",
    "Essa combinação de múltiplas árvores torna o modelo mais robusto e menos propenso ao overfitting, pois erros individuais de cada árvore tendem a se compensar.\n",
    "\n",
    "## Vantagens do Random Forest\n",
    "\n",
    "- **Redução do Overfitting**: Comparado a uma única árvore de decisão, o Random Forest tende a não se ajustar demais aos dados de treinamento.\n",
    "- **Robustez a Outliers e Variabilidade**: É um método robusto a ruído e outliers.\n",
    "- **Flexibilidade**: Pode ser usado para problemas de classificação e regressão.\n",
    "- **Importância de Variáveis**: Random Forest fornece uma medida da importância das variáveis, ajudando a identificar quais atributos mais contribuem para o modelo.\n",
    "\n",
    "## Aplicação do Random Forest com Scikit-Learn\n",
    "\n",
    "A biblioteca Scikit-Learn oferece uma implementação simples do Random Forest, tanto para classificação quanto para regressão. Abaixo está um exemplo básico para aplicar Random Forest em um problema de classificação usando Scikit-Learn:\n"
   ]
  },
  {
   "cell_type": "code",
   "execution_count": 3,
   "metadata": {},
   "outputs": [
    {
     "name": "stdout",
     "output_type": "stream",
     "text": [
      "Acurácia do modelo: 100.00%\n"
     ]
    }
   ],
   "source": [
    "from sklearn.ensemble import RandomForestClassifier\n",
    "from sklearn.model_selection import train_test_split\n",
    "from sklearn.metrics import accuracy_score\n",
    "from sklearn.datasets import load_iris\n",
    "\n",
    "# Carrega um dataset exemplo (Iris)\n",
    "data = load_iris()\n",
    "X = data.data\n",
    "y = data.target\n",
    "\n",
    "# Divide os dados em conjunto de treino e teste\n",
    "X_train, X_test, y_train, y_test = train_test_split(X, y, test_size=0.3, random_state=42)\n",
    "\n",
    "# Inicializa o modelo Random Forest\n",
    "model = RandomForestClassifier(n_estimators=100, random_state=42)\n",
    "\n",
    "# Treina o modelo\n",
    "model.fit(X_train, y_train)\n",
    "\n",
    "# Faz previsões\n",
    "y_pred = model.predict(X_test)\n",
    "\n",
    "# Avalia o modelo\n",
    "accuracy = accuracy_score(y_test, y_pred)\n",
    "print(f\"Acurácia do modelo: {accuracy * 100:.2f}%\")"
   ]
  },
  {
   "cell_type": "markdown",
   "metadata": {},
   "source": [
    "## Parâmetros Importantes\n",
    "Alguns dos parâmetros mais importantes do `RandomForestClassifier` ou `RandomForestRegressor`  no Scikit-Learn incluem:\n",
    "\n",
    "- `n_estimators`: número de árvores na floresta.\n",
    "- `max_features`: número máximo de variáveis a serem consideradas para cada divisão de nó.\n",
    "- `max_depth`: profundidade máxima de cada árvore, para controlar o tamanho e evitar o overfitting.\n",
    "- `random_state`: semente para garantir reprodutibilidade.\n",
    "\n",
    "O Random Forest é um dos métodos preferidos para dados tabulares e fornece um bom equilíbrio entre precisão e interpretabilidade. É amplamente utilizado em aplicações de classificação, previsão de séries temporais, e até mesmo em sistemas de recomendação."
   ]
  }
 ],
 "metadata": {
  "kernelspec": {
   "display_name": ".venv",
   "language": "python",
   "name": "python3"
  },
  "language_info": {
   "codemirror_mode": {
    "name": "ipython",
    "version": 3
   },
   "file_extension": ".py",
   "mimetype": "text/x-python",
   "name": "python",
   "nbconvert_exporter": "python",
   "pygments_lexer": "ipython3",
   "version": "3.12.3"
  }
 },
 "nbformat": 4,
 "nbformat_minor": 2
}
