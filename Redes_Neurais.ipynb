{
 "cells": [
  {
   "cell_type": "markdown",
   "metadata": {},
   "source": [
    "# Redes Neurais em Machine Learning\n",
    "\n",
    "Redes neurais em **Machine Learning** são modelos computacionais inspirados no funcionamento do cérebro humano, projetados para identificar padrões e realizar tarefas como classificação, regressão, reconhecimento de imagens, processamento de linguagem natural, entre outras.\n",
    "\n",
    "Elas consistem em camadas de **neurônios artificiais** conectados, que processam dados e aprendem a realizar tarefas a partir de exemplos.\n",
    "\n",
    "---\n",
    "\n",
    "## Estrutura Básica de uma Rede Neural\n",
    "\n",
    "1. **Neurônios artificiais**: \n",
    "   - Unidades básicas de uma rede neural, equivalentes aos neurônios do cérebro.\n",
    "   - Cada neurônio recebe entradas (dados ou saídas de outros neurônios), aplica um peso a essas entradas, soma os valores e passa o resultado por uma **função de ativação**.\n",
    "\n",
    "2. **Camadas**:\n",
    "   - **Camada de entrada**: Onde os dados brutos entram na rede (por exemplo, pixels de uma imagem ou características numéricas).\n",
    "   - **Camadas ocultas**: Realizam a maior parte do processamento, transformando os dados de forma hierárquica. Redes com muitas camadas são chamadas de redes **profundas** (Deep Learning).\n",
    "   - **Camada de saída**: Fornece a resposta final da rede, como uma classificação, probabilidade ou valor numérico.\n",
    "\n",
    "3. **Conexões e pesos**:\n",
    "   - Os neurônios estão conectados por **pesos**, que são ajustáveis durante o treinamento e determinam a influência de uma entrada sobre outra.\n",
    "\n",
    "---\n",
    "\n",
    "## Como Funcionam\n",
    "\n",
    "1. **Forward Propagation**:\n",
    "   - O dado de entrada é processado camada por camada, multiplicando os valores pelas conexões ponderadas e aplicando funções de ativação para gerar as saídas.\n",
    "\n",
    "2. **Erro e Loss Function**:\n",
    "   - Após produzir uma saída, a rede calcula o erro comparando a previsão com o valor esperado usando uma **função de perda**.\n",
    "\n",
    "3. **Backpropagation**:\n",
    "   - A rede ajusta os pesos das conexões para minimizar o erro.\n",
    "   - Isso é feito \"de trás para frente\", propagando o erro da saída para as camadas anteriores e ajustando os pesos com base no **gradiente descendente**.\n",
    "\n",
    "4. **Treinamento**:\n",
    "   - Repetir os passos acima para várias iterações (épocas) até que a rede aprenda a realizar a tarefa com precisão aceitável.\n",
    "\n",
    "---\n",
    "\n",
    "## Principais Tipos de Redes Neurais\n",
    "\n",
    "1. **Redes Neurais Artificiais (ANNs)**:\n",
    "   - Estruturas simples com camadas totalmente conectadas.\n",
    "   - Usadas em tarefas gerais de classificação e regressão.\n",
    "\n",
    "2. **Redes Neurais Convolucionais (CNNs)**:\n",
    "   - Especializadas em processar dados com estrutura de grade, como imagens.\n",
    "   - Usam camadas de convolução para detectar características locais, como bordas ou texturas.\n",
    "\n",
    "3. **Redes Neurais Recorrentes (RNNs)**:\n",
    "   - Projetadas para lidar com dados sequenciais, como texto ou séries temporais.\n",
    "   - Permitem que informações anteriores influenciem as decisões atuais.\n",
    "\n",
    "4. **Redes Generativas Adversariais (GANs)**:\n",
    "   - Compostas por duas redes (geradora e discriminadora) que competem entre si.\n",
    "   - Usadas para criar novos dados, como imagens ou músicas.\n",
    "\n",
    "---\n",
    "\n",
    "## Aplicações de Redes Neurais\n",
    "\n",
    "- Reconhecimento facial.\n",
    "- Diagnóstico médico baseado em imagens (radiografias, tomografias).\n",
    "- Tradução automática e assistentes de voz.\n",
    "- Jogos e inteligência artificial avançada (como AlphaGo).\n",
    "- Geração de imagens e arte digital.\n",
    "- Detecção de fraudes e previsões financeiras.\n",
    "\n",
    "---\n",
    "\n",
    "Em resumo, redes neurais são ferramentas poderosas para resolver problemas complexos, pois conseguem identificar padrões em dados de forma automática e escalável. O uso crescente dessas redes é o que impulsiona muitos dos avanços atuais em inteligência artificial.\n"
   ]
  },
  {
   "cell_type": "markdown",
   "metadata": {},
   "source": [
    "## Exemplo Prático: Classificação com MLPClassifier\n"
   ]
  },
  {
   "cell_type": "code",
   "execution_count": 1,
   "metadata": {},
   "outputs": [
    {
     "name": "stdout",
     "output_type": "stream",
     "text": [
      "Acurácia: 0.98\n"
     ]
    }
   ],
   "source": [
    "from sklearn.neural_network import MLPClassifier\n",
    "from sklearn.datasets import load_digits\n",
    "from sklearn.model_selection import train_test_split\n",
    "from sklearn.metrics import accuracy_score\n",
    "\n",
    "# Carregar o dataset de dígitos (imagens de 0 a 9)\n",
    "data = load_digits()\n",
    "X = data.data  # Atributos (imagens em forma de vetor)\n",
    "y = data.target  # Rótulos (dígitos de 0 a 9)\n",
    "\n",
    "# Dividir o conjunto em treino e teste\n",
    "X_train, X_test, y_train, y_test = train_test_split(X, y, test_size=0.2, random_state=42)\n",
    "\n",
    "# Criar e configurar a rede neural\n",
    "mlp = MLPClassifier(\n",
    "    hidden_layer_sizes=(100,),  # Uma camada oculta com 100 neurônios\n",
    "    activation='relu',          # Função de ativação ReLU\n",
    "    solver='adam',              # Otimizador Adam\n",
    "    max_iter=500,               # Número máximo de iterações\n",
    "    random_state=42\n",
    ")\n",
    "\n",
    "# Treinar a rede neural\n",
    "mlp.fit(X_train, y_train)\n",
    "\n",
    "# Fazer previsões\n",
    "y_pred = mlp.predict(X_test)\n",
    "\n",
    "# Avaliar o desempenho\n",
    "accuracy = accuracy_score(y_test, y_pred)\n",
    "print(f\"Acurácia: {accuracy:.2f}\")\n"
   ]
  },
  {
   "cell_type": "markdown",
   "metadata": {},
   "source": [
    "## Exemplo Prático: Regressão com MLPRegressor"
   ]
  },
  {
   "cell_type": "code",
   "execution_count": 2,
   "metadata": {},
   "outputs": [
    {
     "name": "stdout",
     "output_type": "stream",
     "text": [
      "Erro Quadrático Médio: 20.99\n"
     ]
    },
    {
     "name": "stderr",
     "output_type": "stream",
     "text": [
      "c:\\Insper_real_oficial\\machine_learning\\estudo_pf\\.venv\\Lib\\site-packages\\sklearn\\neural_network\\_multilayer_perceptron.py:690: ConvergenceWarning: Stochastic Optimizer: Maximum iterations (500) reached and the optimization hasn't converged yet.\n",
      "  warnings.warn(\n"
     ]
    }
   ],
   "source": [
    "from sklearn.neural_network import MLPRegressor\n",
    "from sklearn.datasets import make_regression\n",
    "from sklearn.model_selection import train_test_split\n",
    "from sklearn.metrics import mean_squared_error\n",
    "\n",
    "# Gerar dados sintéticos para regressão\n",
    "X, y = make_regression(n_samples=1000, n_features=10, noise=0.1, random_state=42)\n",
    "\n",
    "# Dividir o conjunto em treino e teste\n",
    "X_train, X_test, y_train, y_test = train_test_split(X, y, test_size=0.2, random_state=42)\n",
    "\n",
    "# Criar e configurar a rede neural\n",
    "mlp = MLPRegressor(\n",
    "    hidden_layer_sizes=(50, 50),  # Duas camadas ocultas com 50 neurônios cada\n",
    "    activation='relu',            # Função de ativação ReLU\n",
    "    solver='adam',                # Otimizador Adam\n",
    "    max_iter=500,                 # Número máximo de iterações\n",
    "    random_state=42\n",
    ")\n",
    "\n",
    "# Treinar a rede neural\n",
    "mlp.fit(X_train, y_train)\n",
    "\n",
    "# Fazer previsões\n",
    "y_pred = mlp.predict(X_test)\n",
    "\n",
    "# Avaliar o desempenho\n",
    "mse = mean_squared_error(y_test, y_pred)\n",
    "print(f\"Erro Quadrático Médio: {mse:.2f}\")\n"
   ]
  }
 ],
 "metadata": {
  "kernelspec": {
   "display_name": ".venv",
   "language": "python",
   "name": "python3"
  },
  "language_info": {
   "codemirror_mode": {
    "name": "ipython",
    "version": 3
   },
   "file_extension": ".py",
   "mimetype": "text/x-python",
   "name": "python",
   "nbconvert_exporter": "python",
   "pygments_lexer": "ipython3",
   "version": "3.12.3"
  }
 },
 "nbformat": 4,
 "nbformat_minor": 2
}
